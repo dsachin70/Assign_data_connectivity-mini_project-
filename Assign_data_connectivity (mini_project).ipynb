{
 "cells": [
  {
   "cell_type": "code",
   "execution_count": 1,
   "id": "62f19eaa",
   "metadata": {},
   "outputs": [],
   "source": [
    "import re, sys\n",
    "from datetime import datetime"
   ]
  },
  {
   "cell_type": "code",
   "execution_count": null,
   "id": "65d5da4c",
   "metadata": {},
   "outputs": [],
   "source": [
    "mydb = mysql.connector.connect(host=\"localhost\",database=\"bank\", user=\"root\",passwd=\"MySQL@2021\")"
   ]
  },
  {
   "cell_type": "code",
   "execution_count": null,
   "id": "12d6dfb7",
   "metadata": {},
   "outputs": [],
   "source": [
    "def Val_name(name):\n",
    "    val=0\n",
    "    err_info=None\n",
    "    try:\n",
    "        ##print(name, mobile, marks_10)\n",
    "        if name.isalpha()==False:\n",
    "                val=1\n",
    "                print(\"inside the name\")\n",
    "                raise Exception(\"name  not entered correctly\")\n",
    "    except:\n",
    "        err_info = sys.exc_info()[1]\n",
    "    return val, err_info"
   ]
  },
  {
   "cell_type": "code",
   "execution_count": null,
   "id": "cae2f8e7",
   "metadata": {},
   "outputs": [],
   "source": [
    "def Val_password(password):\n",
    "    val=0\n",
    "    err_info=None\n",
    "    try:\n",
    "        cap = re.search(\"[A-Z]\",password)\n",
    "        num =re.search(\"[0-9]\",password)\n",
    "        small = re.search('[a-z]', password)\n",
    "        sc =re.search('[@,#]',password)\n",
    "        if cap and num and small and sc:\n",
    "            print(\"valid\")\n",
    "        else:\n",
    "            val=1\n",
    "            raise Exception(\"not valid password\")        \n",
    "        \n",
    "    except:\n",
    "        err_info=sys.exc_info()[1]\n",
    "    return val, err_info"
   ]
  },
  {
   "cell_type": "code",
   "execution_count": null,
   "id": "677fbfb1",
   "metadata": {},
   "outputs": [],
   "source": [
    "while True:\n",
    "    name = input(\"username\")\n",
    "    v, e = Val_name(name)\n",
    "    print(v,e)\n",
    "    if v==0:\n",
    "        break  \n",
    "    \n",
    "while True:\n",
    "    key = input(\"password\")\n",
    "    v, e = Val_password(key)\n",
    "    print(v,e)\n",
    "    if v==0:\n",
    "        break\n",
    "        \n",
    "c=mydb.cursor()\n",
    "stmt =\"insert into log_in(user_name,key_val,creation_timme) values ('{}','{}',sysdate())\".format(name,key)\n",
    "c.execute(stmt)\n",
    "mydb.commit()"
   ]
  },
  {
   "cell_type": "code",
   "execution_count": null,
   "id": "2de3cadf",
   "metadata": {},
   "outputs": [],
   "source": []
  }
 ],
 "metadata": {
  "kernelspec": {
   "display_name": "Python 3 (ipykernel)",
   "language": "python",
   "name": "python3"
  },
  "language_info": {
   "codemirror_mode": {
    "name": "ipython",
    "version": 3
   },
   "file_extension": ".py",
   "mimetype": "text/x-python",
   "name": "python",
   "nbconvert_exporter": "python",
   "pygments_lexer": "ipython3",
   "version": "3.9.12"
  }
 },
 "nbformat": 4,
 "nbformat_minor": 5
}
